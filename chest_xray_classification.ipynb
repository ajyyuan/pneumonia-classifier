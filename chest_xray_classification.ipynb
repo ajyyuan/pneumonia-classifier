{
 "cells": [
  {
   "cell_type": "markdown",
   "id": "warming-proposition",
   "metadata": {},
   "source": [
    "import os\n",
    "import shutil #high-level file operations like copying a file\n",
    "import random\n",
    "\n",
    "seed = 1\n",
    "random.seed(seed)\n",
    "directory = \"data/images_001/\"\n",
    "train = \"data/train/\"\n",
    "test = \"data/test/\"\n",
    "validation = \"data/validation/\"\n",
    "\n",
    "os.makedirs(train + \"normal/\")\n",
    "os.makedirs(train + \"pneumonia/\")\n",
    "os.makedirs(test + \"normal/\")\n",
    "os.makedirs(test + \"pneumonia/\")\n",
    "os.makedirs(validation + \"normal/\")\n",
    "os.makedirs(validation + \"pneumonia/\")\n",
    "\n",
    "test_examples = train_examples = validation_examples = 0\n",
    "\n",
    "for line in open(\"data/Data_Entry_2017_v2020.csv\").readlines()[1:]:\n",
    "    split_line = line.split(\",\")\n",
    "    img_file = split_line[0]\n",
    "    normal_pneumonia = split_line[1]\n",
    "    \n",
    "    #if os.path.isfile(\"data/images_001/\" + img_file):\n",
    "    if os.path.isfile(directory + img_file):\n",
    "        random_num = random.random()\n",
    "        \n",
    "        if random_num < 0.8:\n",
    "            location = train\n",
    "            train_examples += 1\n",
    "        elif random_num < 0.9:\n",
    "            location = validation\n",
    "            validation_examples += 1\n",
    "        else:\n",
    "            location = test\n",
    "            test_examples += 1\n",
    "        #print(normal_pneumonia)\n",
    "        if normal_pneumonia == \"Pneumonia\":\n",
    "        #if 'Pneumonia' in normal_pneumonia:\n",
    "            shutil.copy(\n",
    "                directory + img_file,\n",
    "                location + \"pneumonia/\" + img_file,\n",
    "            )\n",
    "        elif normal_pneumonia == \"No Finding\":\n",
    "            shutil.copy(\n",
    "                directory + img_file,\n",
    "                location + \"normal/\" + img_file,\n",
    "            )\n",
    "\n",
    "print(f\"Number of training examples {train_examples}\")\n",
    "print(f\"Number of test examples {test_examples}\")\n",
    "print(f\"Number of validation examples {validation_examples}\")\n"
   ]
  },
  {
   "cell_type": "markdown",
   "id": "stopped-presentation",
   "metadata": {},
   "source": [
    "randomly select 130 images from 2,172 normal images"
   ]
  },
  {
   "cell_type": "markdown",
   "id": "written-gnome",
   "metadata": {},
   "source": [
    "source_dir = \"data/train/normal/\"\n",
    "dest_dir = \"data/train/normal_reduced/\"\n",
    "os.makedirs(dest_dir)\n",
    "filenames = random.sample(os.listdir(source_dir), 130)\n",
    "for fname in filenames:\n",
    "    srcpath = os.path.join(source_dir, fname)\n",
    "    shutil.copy(srcpath, dest_dir)\n",
    "\n",
    "source_dir = \"data/test/normal/\"\n",
    "dest_dir = \"data/test/normal_reduced/\"\n",
    "os.makedirs(dest_dir)\n",
    "filenames = random.sample(os.listdir(source_dir), 30)\n",
    "for fname in filenames:\n",
    "    srcpath = os.path.join(source_dir, fname)\n",
    "    shutil.copy(srcpath, dest_dir)\n",
    "\n",
    "source_dir = \"data/validation/normal/\"\n",
    "dest_dir = \"data/validation/normal_reduced/\"\n",
    "os.makedirs(dest_dir)\n",
    "filenames = random.sample(os.listdir(source_dir), 20)\n",
    "for fname in filenames:\n",
    "    srcpath = os.path.join(source_dir, fname)\n",
    "    shutil.copy(srcpath, dest_dir)"
   ]
  },
  {
   "cell_type": "code",
   "execution_count": null,
   "id": "horizontal-damage",
   "metadata": {},
   "outputs": [],
   "source": []
  }
 ],
 "metadata": {
  "kernelspec": {
   "display_name": "Python 3",
   "language": "python",
   "name": "python3"
  },
  "language_info": {
   "codemirror_mode": {
    "name": "ipython",
    "version": 3
   },
   "file_extension": ".py",
   "mimetype": "text/x-python",
   "name": "python",
   "nbconvert_exporter": "python",
   "pygments_lexer": "ipython3",
   "version": "3.8.8"
  }
 },
 "nbformat": 4,
 "nbformat_minor": 5
}
